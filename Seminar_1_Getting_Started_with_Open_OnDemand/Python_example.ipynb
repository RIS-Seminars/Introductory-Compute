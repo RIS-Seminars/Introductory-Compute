{
 "cells": [
  {
   "cell_type": "markdown",
   "id": "91992dea",
   "metadata": {},
   "source": [
    "## Run Python code to import a small spreadsheet data file called study_data.csv"
   ]
  },
  {
   "cell_type": "code",
   "execution_count": null,
   "id": "af39dc30",
   "metadata": {},
   "outputs": [],
   "source": [
    "import pandas as pd #import Pandas, Matplotlib, and Seaborn libraries \n",
    "import matplotlib.pyplot as plt\n",
    "import seaborn as sns"
   ]
  },
  {
   "cell_type": "code",
   "execution_count": null,
   "id": "e8928919",
   "metadata": {},
   "outputs": [],
   "source": [
    "data1 = pd.read_csv('study_data.csv') #import study_data.csv and create an object"
   ]
  },
  {
   "cell_type": "code",
   "execution_count": null,
   "id": "3dc91bff",
   "metadata": {},
   "outputs": [],
   "source": [
    "data1.shape # display the dimensions (number of row and columns) of data1"
   ]
  },
  {
   "cell_type": "code",
   "execution_count": null,
   "id": "de3261de",
   "metadata": {},
   "outputs": [],
   "source": [
    "data1.head() # display the first few rows of data1"
   ]
  },
  {
   "cell_type": "code",
   "execution_count": null,
   "id": "965ff63e",
   "metadata": {},
   "outputs": [],
   "source": [
    "data1.tail()"
   ]
  },
  {
   "cell_type": "code",
   "execution_count": null,
   "id": "6a9b259a",
   "metadata": {},
   "outputs": [],
   "source": [
    "#basic scatter plot \n",
    "#scatter plot of BMI by Weight \n",
    "plt.scatter(data1['Weight'],data1['BMI'])\n",
    "plt.xlabel('Weight(lb)')\n",
    "plt.ylabel('BMI')\n",
    "plt.title('BMI by Weight')\n",
    "plt.savefig('scatter1.png') \n",
    "plt.show()"
   ]
  },
  {
   "cell_type": "code",
   "execution_count": null,
   "id": "2fe0aef4",
   "metadata": {},
   "outputs": [],
   "source": [
    "%pwd # display working directory or where the notebook is opn"
   ]
  }
 ],
 "metadata": {
  "kernelspec": {
   "display_name": "Python 3 (ipykernel)",
   "language": "python",
   "name": "python3"
  },
  "language_info": {
   "codemirror_mode": {
    "name": "ipython",
    "version": 3
   },
   "file_extension": ".py",
   "mimetype": "text/x-python",
   "name": "python",
   "nbconvert_exporter": "python",
   "pygments_lexer": "ipython3",
   "version": "3.9.7"
  }
 },
 "nbformat": 4,
 "nbformat_minor": 5
}
